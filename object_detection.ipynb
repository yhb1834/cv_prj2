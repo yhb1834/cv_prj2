{
  "nbformat": 4,
  "nbformat_minor": 0,
  "metadata": {
    "colab": {
      "name": "object_detection.ipynb",
      "provenance": [],
      "authorship_tag": "ABX9TyOIdWQhzn1wi/WmLKYBWwcw",
      "include_colab_link": true
    },
    "kernelspec": {
      "name": "python3",
      "display_name": "Python 3"
    },
    "language_info": {
      "name": "python"
    }
  },
  "cells": [
    {
      "cell_type": "markdown",
      "metadata": {
        "id": "view-in-github",
        "colab_type": "text"
      },
      "source": [
        "<a href=\"https://colab.research.google.com/github/yhb1834/cv_prj2/blob/main/object_detection.ipynb\" target=\"_parent\"><img src=\"https://colab.research.google.com/assets/colab-badge.svg\" alt=\"Open In Colab\"/></a>"
      ]
    },
    {
      "cell_type": "code",
      "execution_count": 1,
      "metadata": {
        "colab": {
          "base_uri": "https://localhost:8080/"
        },
        "id": "yRnJUlmnf9rw",
        "outputId": "d09c69b7-6f60-4ba9-cdb1-a490070fe9d0"
      },
      "outputs": [
        {
          "output_type": "stream",
          "name": "stdout",
          "text": [
            "Tensorflow version: 2.8.2\n",
            "The following GPU devices are available: \n"
          ]
        }
      ],
      "source": [
        "# Detection을 위한 Tensorflow 모듈 설치\n",
        "import tensorflow as tf\n",
        "import tensorflow_hub as hub\n",
        "\n",
        "# 이미지를 위한 모듈\n",
        "import matplotlib.pyplot as plt #차트 그리기\n",
        "import tempfile # 임시 파일/디렉터리 생성 \n",
        "from six.moves.urllib.request import urlopen # url처리 (six: python2, 3 동시처리 가능한 모듈)\n",
        "from six import BytesIO #데이터를 BytesIO로 읽은 뒤 이미지 Open\n",
        "\n",
        "# For drawing onto the image. 배열\n",
        "import numpy as np\n",
        "\n",
        "# 파이썬 이미지 처리 pkg\n",
        "from PIL import Image # 이미지 생성, 불러오기 등 제공\n",
        "from PIL import ImageColor # color table 제공\n",
        "from PIL import ImageDraw # 이미지에 텍스트 쓰기\n",
        "from PIL import ImageFont # 이미지 내 폰트 설정\n",
        "from PIL import ImageOps # 이미지 변형 \n",
        "\n",
        "import time # 시간측정을 위한 함수\n",
        "\n",
        "# Tensorflow 버전 출력 및 GPU 체크\n",
        "print(\"Tensorflow version:\", tf.__version__)\n",
        "print(\"The following GPU devices are available: %s\" % tf.test.gpu_device_name())"
      ]
    },
    {
      "cell_type": "code",
      "source": [
        ""
      ],
      "metadata": {
        "id": "R4H7xBA8gPDM"
      },
      "execution_count": null,
      "outputs": []
    }
  ]
}
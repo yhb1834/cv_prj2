{
  "nbformat": 4,
  "nbformat_minor": 0,
  "metadata": {
    "colab": {
      "name": "yolov1.ipynb",
      "provenance": [],
      "authorship_tag": "ABX9TyMQpVn77P7DiZwVpYuTXY6x",
      "include_colab_link": true
    },
    "kernelspec": {
      "name": "python3",
      "display_name": "Python 3"
    },
    "language_info": {
      "name": "python"
    }
  },
  "cells": [
    {
      "cell_type": "markdown",
      "metadata": {
        "id": "view-in-github",
        "colab_type": "text"
      },
      "source": [
        "<a href=\"https://colab.research.google.com/github/yhb1834/cv_prj2/blob/main/yolov1.ipynb\" target=\"_parent\"><img src=\"https://colab.research.google.com/assets/colab-badge.svg\" alt=\"Open In Colab\"/></a>"
      ]
    },
    {
      "cell_type": "markdown",
      "source": [
        "# Download VOC Dataset\n",
        "\n",
        "!mkdir train\n",
        "!mkdir test\n",
        "!wget http://pjreddie.com/media/files/VOCtrainval_06-Nov-2007.tar -P train/\n",
        "!wget http://pjreddie.com/media/files/VOCtest_06-Nov-2007.tar -P test/\n",
        "!tar -xf test/VOCtest_06-Nov-2007.tar -C test/\n",
        "!tar -xf train/VOCtrainval_06-Nov-2007.tar -C train/\n",
        "!rm -rf test/VOCtest_06-Nov-2007.tar"
      ],
      "metadata": {
        "id": "lhYxg45t0B2X"
      }
    },
    {
      "cell_type": "code",
      "source": [
        "# Download VOC Dataset\n",
        "\n",
        "!mkdir train\n",
        "!mkdir test\n",
        "!wget http://pjreddie.com/media/files/VOCtrainval_06-Nov-2007.tar -P train/\n",
        "!wget http://pjreddie.com/media/files/VOCtest_06-Nov-2007.tar -P test/\n",
        "!tar -xf test/VOCtest_06-Nov-2007.tar -C test/\n",
        "!tar -xf train/VOCtrainval_06-Nov-2007.tar -C train/\n",
        "!rm -rf test/VOCtest_06-Nov-2007.tar"
      ],
      "metadata": {
        "colab": {
          "base_uri": "https://localhost:8080/"
        },
        "id": "B149SS1-0gE8",
        "outputId": "eb3827e2-fc54-4c17-bac2-970b57994741"
      },
      "execution_count": 7,
      "outputs": [
        {
          "output_type": "stream",
          "name": "stdout",
          "text": [
            "--2022-06-07 06:20:07--  http://pjreddie.com/media/files/VOCtrainval_06-Nov-2007.tar\n",
            "Resolving pjreddie.com (pjreddie.com)... 128.208.4.108\n",
            "Connecting to pjreddie.com (pjreddie.com)|128.208.4.108|:80... connected.\n",
            "HTTP request sent, awaiting response... 301 Moved Permanently\n",
            "Location: https://pjreddie.com/media/files/VOCtrainval_06-Nov-2007.tar [following]\n",
            "--2022-06-07 06:20:07--  https://pjreddie.com/media/files/VOCtrainval_06-Nov-2007.tar\n",
            "Connecting to pjreddie.com (pjreddie.com)|128.208.4.108|:443... connected.\n",
            "HTTP request sent, awaiting response... 200 OK\n",
            "Length: 460032000 (439M) [application/octet-stream]\n",
            "Saving to: ‘train/VOCtrainval_06-Nov-2007.tar’\n",
            "\n",
            "VOCtrainval_06-Nov- 100%[===================>] 438.72M  39.7MB/s    in 11s     \n",
            "\n",
            "2022-06-07 06:20:19 (38.6 MB/s) - ‘train/VOCtrainval_06-Nov-2007.tar’ saved [460032000/460032000]\n",
            "\n",
            "URL transformed to HTTPS due to an HSTS policy\n",
            "--2022-06-07 06:20:19--  https://pjreddie.com/media/files/VOCtest_06-Nov-2007.tar\n",
            "Resolving pjreddie.com (pjreddie.com)... 128.208.4.108\n",
            "Connecting to pjreddie.com (pjreddie.com)|128.208.4.108|:443... connected.\n",
            "HTTP request sent, awaiting response... 200 OK\n",
            "Length: 451020800 (430M) [application/octet-stream]\n",
            "Saving to: ‘test/VOCtest_06-Nov-2007.tar’\n",
            "\n",
            "VOCtest_06-Nov-2007 100%[===================>] 430.13M  40.1MB/s    in 11s     \n",
            "\n",
            "2022-06-07 06:20:30 (38.7 MB/s) - ‘test/VOCtest_06-Nov-2007.tar’ saved [451020800/451020800]\n",
            "\n"
          ]
        }
      ]
    },
    {
      "cell_type": "markdown",
      "source": [
        "# Download Package\n",
        "\n",
        "!pip install xmltodict\n",
        "!pip install -U albumentations\n",
        "!pip install \"opencv-python-headless<4.3\""
      ],
      "metadata": {
        "id": "zDfStU140nLt"
      }
    },
    {
      "cell_type": "code",
      "source": [
        "# configs\n",
        "root_dir = '/content'\n",
        "annot_f = './{}/VOCdevkit/VOC2007/Annotations'\n",
        "image_f = './{}/VOCdevkit/VOC2007/JPEGImages/{}'\n",
        "\n",
        "classes = ['person', # Person\n",
        "           'bird', 'cat', 'cow', 'dog', 'horse', 'sheep', # Animal\n",
        "           'aeroplane', 'bicycle', 'boat', 'bus', 'car', 'motorbike', 'train', # Vehicle\n",
        "           'bottle', 'chair', 'dining table', 'potted plant', 'sofa', 'tv/monitor' # Indoor\n",
        "           ]\n",
        "\n",
        "num_classes = len(classes)\n",
        "feature_size = 7\n",
        "num_bboxes = 2"
      ],
      "metadata": {
        "id": "Qvi5oloUzb3u"
      },
      "execution_count": 2,
      "outputs": []
    },
    {
      "cell_type": "code",
      "source": [
        "import sys\n",
        "sys.path.append(root_dir)\n",
        "\n",
        "from torch.autograd import Variable\n",
        "import torch\n",
        "import torch.nn as nn\n",
        "import torch.nn.functional as F\n",
        "import torch.optim as optim\n",
        "import torch.optim.lr_scheduler\n",
        "\n",
        "from torch.utils.data import Dataset, DataLoader\n",
        "\n",
        "device = torch.device(\"cuda:0\" if torch.cuda.is_available() else \"cpu\")\n",
        "\n",
        "## utils\n",
        "import numpy as np\n",
        "import random, math, time\n",
        "# 노트북일 때만 사용\n",
        "from tqdm.notebook import tqdm\n",
        "\n",
        "## File Loader\n",
        "import os, xmltodict\n",
        "import os.path as pth\n",
        "from PIL import Image\n",
        "\n",
        "# Draw Image\n",
        "import matplotlib.pyplot as plt\n",
        "import matplotlib.patches as patches\n",
        "\n",
        "## Transformer\n",
        "from albumentations.pytorch import transforms\n",
        "from random import sample\n",
        "import albumentations as A\n",
        "from albumentations.pytorch.transforms import ToTensorV2\n",
        "\n",
        "# Seed\n",
        "random.seed(53)"
      ],
      "metadata": {
        "id": "nCfRWf84zEcs"
      },
      "execution_count": 22,
      "outputs": []
    },
    {
      "cell_type": "code",
      "source": [
        "# utils\n",
        "def draw_image(image_info, w=448, h=448, transforms=None):\n",
        "    im = np.array(Image.open(image_f.format('train', image_info['image_id'])).convert('RGB').resize((w,h)), dtype=np.uint8)\n",
        "\n",
        "    # Create figure and axes\n",
        "    fig,ax = plt.subplots(1, figsize=(7,7))\n",
        "\n",
        "    bb = image_info['bboxs']\n",
        "    la = image_info['labels']\n",
        "\n",
        "    if transforms:\n",
        "        sample = transforms(image=im, bboxes=bb, category_ids=la)\n",
        "        im = sample['image'].permute(1,2,0).numpy()\n",
        "        bb = sample['bboxes']\n",
        "        la = sample['category_ids']\n",
        "\n",
        "    # Display the image\n",
        "    ax.imshow(im)\n",
        "\n",
        "\n",
        "    # Create a Rectangle patch\n",
        "    for b, l in zip(bb, la):\n",
        "        # top left (x, y) , (w, h)\n",
        "        rect = patches.Rectangle((b[0]*w,b[1]*h),(b[2]-b[0])*w,(b[3]-b[1])*h,linewidth=1,edgecolor='r',facecolor='none')\n",
        "        # Add the patch to the Axes\n",
        "        ax.add_patch(rect)\n",
        "        props = dict(boxstyle='round', facecolor='red', alpha=0.9)\n",
        "        plt.text(b[0]*w, b[1]*h, classes[l], fontsize=10, color='white', bbox=props)\n",
        "    plt.axis('off')\n",
        "    plt.show()"
      ],
      "metadata": {
        "id": "L6XKaA9P0xgu"
      },
      "execution_count": 11,
      "outputs": []
    },
    {
      "cell_type": "code",
      "source": [
        "# dataset # VOC\n",
        "def get_infos(annot_f=annot_f, mode='train'):\n",
        "    annot_dir = annot_f.format(mode)\n",
        "    result = []\n",
        "    for ano in [pth.join(annot_dir, ano) for ano in os.listdir(annot_dir)]:\n",
        "        f = open(ano)\n",
        "        info = xmltodict.parse(f.read())['annotation']\n",
        "        image_id = info['filename']\n",
        "        image_size = np.asarray(tuple(map(int, info['size'].values()))[:2], np.int16)\n",
        "        w, h = image_size\n",
        "        box_objects = info['object']\n",
        "        labels = []\n",
        "        bboxs = []\n",
        "        for obj in box_objects:\n",
        "            try:\n",
        "                labels.append(classes.index(obj['name'].lower()))\n",
        "                bboxs.append(tuple(map(int, obj['bndbox'].values())))\n",
        "            except: pass\n",
        "\n",
        "        # Resizing Box, Change x1 y1 x2 y2\n",
        "        # albumentations (normalized box)\n",
        "        bboxs = np.asarray(bboxs, dtype=np.float64)\n",
        "        try:\n",
        "            bboxs[:, [0,2]] /= w\n",
        "            bboxs[:, [1,3]] /= h\n",
        "        except: pass\n",
        "        if bboxs.shape[0] or mode=='test':\n",
        "            result.append({'image_id':image_id, 'image_size':image_size, 'bboxs':bboxs, 'labels':labels})\n",
        "\n",
        "    return result\n",
        "    \n",
        "trval_list = get_infos()\n",
        "test_list = get_infos(mode='test')\n",
        "\n",
        "len(trval_list), len(test_list)"
      ],
      "metadata": {
        "colab": {
          "base_uri": "https://localhost:8080/"
        },
        "id": "tfNY8wyl1gmV",
        "outputId": "f40e387b-7538-4e53-832d-ceb648265d76"
      },
      "execution_count": 12,
      "outputs": [
        {
          "output_type": "execute_result",
          "data": {
            "text/plain": [
              "(3067, 4952)"
            ]
          },
          "metadata": {},
          "execution_count": 12
        }
      ]
    },
    {
      "cell_type": "code",
      "source": [
        "# utils\n",
        "def get_tv_idx(tl, k = 0.5):\n",
        "    total_idx = range(tl)\n",
        "    train_idx = sample(total_idx, int(tl*k))\n",
        "    valid_idx = set(total_idx) - set(train_idx)\n",
        "    return train_idx, list(valid_idx)\n",
        "\n",
        "train_idx, valid_idx = get_tv_idx(len(trval_list))\n",
        "\n",
        "trval_list = np.asarray(trval_list)\n",
        "train_list = trval_list[train_idx]\n",
        "valid_list = trval_list[valid_idx]"
      ],
      "metadata": {
        "id": "nVZfS9d81jMx"
      },
      "execution_count": 13,
      "outputs": []
    },
    {
      "cell_type": "code",
      "source": [
        "# Make Dataset\n",
        "class VOCDataset(Dataset):\n",
        "    def __init__(self, data_list, mode='train', transforms=None):\n",
        "        self.data_list = data_list\n",
        "        self.mode = mode\n",
        "        self.transforms = transforms\n",
        "\n",
        "    def __len__(self):\n",
        "        return len(self.data_list)\n",
        "    \n",
        "    def __getitem__(self, idx):\n",
        "        record = self.data_list[idx]\n",
        "        img_id = record['image_id']\n",
        "        bboxs = record['bboxs']\n",
        "        labels = record['labels']\n",
        "\n",
        "        img = Image.open(image_f.format(self.mode, img_id)).convert('RGB') #.resize((800,800))\n",
        "        img = np.array(img)\n",
        "\n",
        "        if self.transforms:\n",
        "            for t in self.transforms:\n",
        "                sample = self.transforms(image=img, bboxes=bboxs, category_ids=labels)\n",
        "                image = sample['image']\n",
        "                bboxs = np.asarray(sample['bboxes'])\n",
        "                labels = np.asarray(sample['category_ids'])\n",
        "\n",
        "\n",
        "        if self.mode=='train':\n",
        "            target = encode(bboxs, labels)\n",
        "            return image, target\n",
        "        else:\n",
        "            return image"
      ],
      "metadata": {
        "id": "XfTRt7VR14m5"
      },
      "execution_count": 14,
      "outputs": []
    },
    {
      "cell_type": "code",
      "source": [
        "# utils\n",
        "def encode(bboxs, labels):\n",
        "    # Make YoLo Target\n",
        "\n",
        "    S = feature_size\n",
        "    B = num_bboxes\n",
        "    N = 5 * B + num_classes\n",
        "    cell_size = 1.0 / float(S)\n",
        "    # print(bboxs.shape)\n",
        "\n",
        "    box_cxy = (bboxs[:, 2:] + bboxs[:, :2])/2.0\n",
        "    box_wh = bboxs[:, 2:] - bboxs[:, :2]\n",
        "    target = np.zeros((S, S, N))\n",
        "    for b in range(bboxs.shape[0]):\n",
        "        cxy, wh, label = box_cxy[b], box_wh[b], labels[b]\n",
        "        ij = np.ceil(cxy / cell_size) - 1.0\n",
        "        i, j = map(int, ij)\n",
        "        top_left = ij*cell_size\n",
        "        dxy_norm = (cxy-top_left)/cell_size\n",
        "        for k in range(B):\n",
        "            target[j, i, 5*k: 5*(k+1)] = np.r_[dxy_norm, wh, 1]\n",
        "        target[j, i, 5*B+label] = 1.0\n",
        "    return target"
      ],
      "metadata": {
        "id": "N3NA4Uie_qdj"
      },
      "execution_count": 15,
      "outputs": []
    },
    {
      "cell_type": "code",
      "source": [
        "# Transformer 재정의\n",
        "def get_train_transforms():\n",
        "    return A.Compose([\n",
        "        A.Resize(448,448, always_apply=True, p=1),\n",
        "        # A.Cutout(num_holes=7, max_h_size=16, max_w_size=16, fill_value=0, always_apply=False, p=0.5),\n",
        "        A.RandomBrightnessContrast(p=0.2),\n",
        "        A.HorizontalFlip(),\n",
        "        ToTensorV2(),\n",
        "    ], bbox_params=A.BboxParams(format='albumentations', label_fields=['category_ids']))\n",
        "\n",
        "def get_test_transforms():\n",
        "    return A.Compose([\n",
        "        A.Resize(448,448, always_apply=True, p=1),\n",
        "        ToTensorV2(),\n",
        "    ])"
      ],
      "metadata": {
        "id": "n2ZCBo1q_vfO"
      },
      "execution_count": 24,
      "outputs": []
    },
    {
      "cell_type": "code",
      "source": [
        "train_ds = VOCDataset(train_list, transforms=get_train_transforms())\n",
        "valid_ds = VOCDataset(valid_list, transforms=get_test_transforms())\n",
        "test_ds = VOCDataset(test_list, mode='test', transforms=get_test_transforms())\n",
        "\n",
        "# torch tensor를 batch size만큼 묶어줌\n",
        "def collate_fn(batch):\n",
        "    images, targets = zip(*batch)\n",
        "    return torch.cat([img.reshape(-1, 3, 448, 448) for img in images], 0), torch.FloatTensor(targets)\n",
        "\n",
        "def test_collate_fn(batch):\n",
        "    images = batch\n",
        "    return torch.cat([img.reshape(-1, 3, 448, 448) for img in images], 0)\n",
        "\n",
        "train_loader = DataLoader(train_ds, batch_size=32, shuffle=True, collate_fn=collate_fn)\n",
        "valid_loader = DataLoader(valid_ds, batch_size=32, shuffle=False, collate_fn=collate_fn)\n",
        "test_loader = DataLoader(test_ds, batch_size=1, shuffle=False, collate_fn=test_collate_fn)"
      ],
      "metadata": {
        "id": "K4WqNknF_yS4"
      },
      "execution_count": 25,
      "outputs": []
    },
    {
      "cell_type": "code",
      "source": [
        ""
      ],
      "metadata": {
        "id": "70sL13y5AuKt"
      },
      "execution_count": 26,
      "outputs": []
    },
    {
      "cell_type": "code",
      "source": [
        ""
      ],
      "metadata": {
        "id": "r4CS1JiwDqNb"
      },
      "execution_count": null,
      "outputs": []
    }
  ]
}